{
 "cells": [
  {
   "cell_type": "markdown",
   "id": "statistical-blond",
   "metadata": {},
   "source": [
    "# Self-Attention"
   ]
  },
  {
   "cell_type": "code",
   "execution_count": 1,
   "id": "indirect-russell",
   "metadata": {},
   "outputs": [],
   "source": [
    "import numpy as np\n",
    "import matplotlib.pyplot as plt\n",
    "import torch\n",
    "\n",
    "def scaled_self_attention(queries, keys, values):\n",
    "    print(\"queries.shape\", queries.shape)\n",
    "    print(\"keys.shape\", keys.shape)\n",
    "    print(\"values.shape\", values.shape)\n",
    "    \n",
    "    # Q dot KT\n",
    "    product = torch.matmul(queries, keys, transpose_b=True)\n",
    "    print(\"product.shape\", product.shape)\n",
    "    \n",
    "    # Divide by keys dimension.\n",
    "    keys_dim = torch.cast(torch.shape(keys)[0], torch.float32)\n",
    "    scaled_product = product / torch.math.sqrt(keys_dim)\n",
    "    print(\"scaled_product.shape\", scaled_product.shape)\n",
    "    \n",
    "    # Attention score.\n",
    "    attention_score = tf.nn.softmax(scaled_product, axis=-1)\n",
    "    print(\"attention_score.shape\", attention_score.shape)\n",
    "    \n",
    "    # Multiply.\n",
    "    attention = tf.matmul(attention_score, values)\n",
    "    print(\"attention.shape\", attention.shape)\n",
    "    \n",
    "    return attention, attention_score"
   ]
  },
  {
   "cell_type": "code",
   "execution_count": 2,
   "id": "thorough-luxembourg",
   "metadata": {},
   "outputs": [
    {
     "name": "stdout",
     "output_type": "stream",
     "text": [
      "queries.shape (80, 8)\n",
      "keys.shape (80, 8)\n",
      "values.shape (80, 8)\n"
     ]
    },
    {
     "ename": "NameError",
     "evalue": "name 'tf' is not defined",
     "output_type": "error",
     "traceback": [
      "\u001b[1;31m---------------------------------------------------------------------------\u001b[0m",
      "\u001b[1;31mNameError\u001b[0m                                 Traceback (most recent call last)",
      "\u001b[1;32m<ipython-input-2-2dfb5869c626>\u001b[0m in \u001b[0;36m<module>\u001b[1;34m\u001b[0m\n\u001b[0;32m      3\u001b[0m \u001b[0mvalues\u001b[0m \u001b[1;33m=\u001b[0m \u001b[0mnp\u001b[0m\u001b[1;33m.\u001b[0m\u001b[0mrandom\u001b[0m\u001b[1;33m.\u001b[0m\u001b[0mrandom\u001b[0m\u001b[1;33m(\u001b[0m\u001b[1;33m(\u001b[0m\u001b[1;36m80\u001b[0m\u001b[1;33m,\u001b[0m \u001b[1;36m8\u001b[0m\u001b[1;33m)\u001b[0m\u001b[1;33m)\u001b[0m\u001b[1;33m.\u001b[0m\u001b[0mastype\u001b[0m\u001b[1;33m(\u001b[0m\u001b[1;34m\"float32\"\u001b[0m\u001b[1;33m)\u001b[0m\u001b[1;33m\u001b[0m\u001b[1;33m\u001b[0m\u001b[0m\n\u001b[0;32m      4\u001b[0m \u001b[1;33m\u001b[0m\u001b[0m\n\u001b[1;32m----> 5\u001b[1;33m \u001b[0mattention\u001b[0m\u001b[1;33m,\u001b[0m \u001b[0mattention_score\u001b[0m \u001b[1;33m=\u001b[0m \u001b[0mscaled_self_attention\u001b[0m\u001b[1;33m(\u001b[0m\u001b[0mqueries\u001b[0m\u001b[1;33m,\u001b[0m \u001b[0mkeys\u001b[0m\u001b[1;33m,\u001b[0m \u001b[0mvalues\u001b[0m\u001b[1;33m)\u001b[0m\u001b[1;33m\u001b[0m\u001b[1;33m\u001b[0m\u001b[0m\n\u001b[0m\u001b[0;32m      6\u001b[0m \u001b[1;33m\u001b[0m\u001b[0m\n\u001b[0;32m      7\u001b[0m \u001b[0mplt\u001b[0m\u001b[1;33m.\u001b[0m\u001b[0msubplot\u001b[0m\u001b[1;33m(\u001b[0m\u001b[1;36m1\u001b[0m\u001b[1;33m,\u001b[0m \u001b[1;36m3\u001b[0m\u001b[1;33m,\u001b[0m \u001b[1;36m1\u001b[0m\u001b[1;33m)\u001b[0m\u001b[1;33m\u001b[0m\u001b[1;33m\u001b[0m\u001b[0m\n",
      "\u001b[1;32m<ipython-input-1-e056a4ed91ff>\u001b[0m in \u001b[0;36mscaled_self_attention\u001b[1;34m(queries, keys, values)\u001b[0m\n\u001b[0;32m      9\u001b[0m \u001b[1;33m\u001b[0m\u001b[0m\n\u001b[0;32m     10\u001b[0m     \u001b[1;31m# Q dot KT\u001b[0m\u001b[1;33m\u001b[0m\u001b[1;33m\u001b[0m\u001b[1;33m\u001b[0m\u001b[0m\n\u001b[1;32m---> 11\u001b[1;33m     \u001b[0mproduct\u001b[0m \u001b[1;33m=\u001b[0m \u001b[0mtf\u001b[0m\u001b[1;33m.\u001b[0m\u001b[0mmatmul\u001b[0m\u001b[1;33m(\u001b[0m\u001b[0mqueries\u001b[0m\u001b[1;33m,\u001b[0m \u001b[0mkeys\u001b[0m\u001b[1;33m,\u001b[0m \u001b[0mtranspose_b\u001b[0m\u001b[1;33m=\u001b[0m\u001b[1;32mTrue\u001b[0m\u001b[1;33m)\u001b[0m\u001b[1;33m\u001b[0m\u001b[1;33m\u001b[0m\u001b[0m\n\u001b[0m\u001b[0;32m     12\u001b[0m     \u001b[0mprint\u001b[0m\u001b[1;33m(\u001b[0m\u001b[1;34m\"product.shape\"\u001b[0m\u001b[1;33m,\u001b[0m \u001b[0mproduct\u001b[0m\u001b[1;33m.\u001b[0m\u001b[0mshape\u001b[0m\u001b[1;33m)\u001b[0m\u001b[1;33m\u001b[0m\u001b[1;33m\u001b[0m\u001b[0m\n\u001b[0;32m     13\u001b[0m \u001b[1;33m\u001b[0m\u001b[0m\n",
      "\u001b[1;31mNameError\u001b[0m: name 'tf' is not defined"
     ]
    }
   ],
   "source": [
    "queries = np.random.random((80, 8)).astype(\"float32\")\n",
    "keys = np.random.random((80, 8)).astype(\"float32\")\n",
    "values = np.random.random((80, 8)).astype(\"float32\")\n",
    "\n",
    "attention, attention_score = scaled_self_attention(queries, keys, values)\n",
    "\n",
    "plt.subplot(1, 3, 1)\n",
    "plt.imshow(queries, cmap=\"inferno\")\n",
    "plt.subplot(1, 3, 2)\n",
    "plt.imshow(keys, cmap=\"inferno\")\n",
    "plt.subplot(1, 3, 3)\n",
    "plt.imshow(values, cmap=\"inferno\")\n",
    "plt.show()\n",
    "plt.close()\n",
    "\n",
    "plt.imshow(attention_score, cmap=\"inferno\")\n",
    "plt.show()\n",
    "plt.close()"
   ]
  },
  {
   "cell_type": "code",
   "execution_count": null,
   "id": "mexican-romantic",
   "metadata": {},
   "outputs": [],
   "source": [
    "from tensorflow.keras.datasets import imdb\n",
    "from tensorflow.keras import preprocessing\n",
    "\n",
    "vocabulary_size = 10000\n",
    "sequence_length = 80\n",
    "embedding_size = 32\n",
    "\n",
    "(x_train, y_train), (x_test, y_test) = imdb.load_data(num_words=10000)\n",
    "x_train = preprocessing.sequence.pad_sequences(\n",
    "    x_train,\n",
    "    maxlen=sequence_length,\n",
    "    padding=\"post\",\n",
    "    truncating=\"post\"\n",
    ")"
   ]
  },
  {
   "cell_type": "code",
   "execution_count": null,
   "id": "diagnostic-month",
   "metadata": {},
   "outputs": [],
   "source": [
    "from tensorflow.keras import models, layers\n",
    "\n",
    "model_input = layers.Input(shape=(sequence_length,))\n",
    "embedding = layers.Embedding(vocabulary_size, embedding_size)(model_input)\n",
    "\n",
    "queries = layers.Dense(8, activation=\"relu\")(embedding)\n",
    "keys = layers.Dense(8, activation=\"relu\")(embedding)\n",
    "values = layers.Dense(8, activation=\"relu\")(embedding)\n",
    "\n",
    "attention, attention_score = layers.Attention()(\n",
    "    [queries, keys, values], \n",
    "    return_attention_scores=True\n",
    ")\n",
    "flatten = layers.Flatten()(attention)\n",
    "dense = layers.Dense(1, activation=\"sigmoid\")(flatten)\n",
    "\n",
    "model = models.Model(model_input, dense)\n",
    "model.summary()\n",
    "\n",
    "attention_model = models.Model(model_input, attention)\n",
    "attention_score_model = models.Model(model_input, attention_score)"
   ]
  },
  {
   "cell_type": "code",
   "execution_count": null,
   "id": "silver-interim",
   "metadata": {},
   "outputs": [],
   "source": [
    "model.compile(\n",
    "    optimizer=\"adam\",\n",
    "    loss=\"binary_crossentropy\",\n",
    "    metrics=[\"accuracy\"]\n",
    ")\n",
    "\n",
    "history = model.fit(\n",
    "    x_train, y_train,\n",
    "    epochs=20,\n",
    "    batch_size=32,\n",
    "    validation_split=0.2"
   ]
  },
  {
   "cell_type": "code",
   "execution_count": null,
   "id": "widespread-emerald",
   "metadata": {},
   "outputs": [],
   "source": [
    "def plot_attention(sample):\n",
    "    sample = np.array([sample])\n",
    "\n",
    "    plt.subplot(1, 2, 1)\n",
    "    attention_score = attention_score_model.predict(sample)[0]\n",
    "    plt.imshow(attention_score, cmap=\"inferno\")\n",
    "\n",
    "    plt.subplot(1, 2, 2)\n",
    "    attention = attention_model.predict(sample)[0]\n",
    "    plt.imshow(attention, cmap=\"inferno\")\n",
    "    \n",
    "    plt.show()\n",
    "    plt.close()\n",
    "    \n",
    "sample = random.choice(x_train)\n",
    "plot_attention(sample)"
   ]
  }
 ],
 "metadata": {
  "kernelspec": {
   "display_name": "Python 3",
   "language": "python",
   "name": "python3"
  },
  "language_info": {
   "codemirror_mode": {
    "name": "ipython",
    "version": 3
   },
   "file_extension": ".py",
   "mimetype": "text/x-python",
   "name": "python",
   "nbconvert_exporter": "python",
   "pygments_lexer": "ipython3",
   "version": "3.8.3"
  }
 },
 "nbformat": 4,
 "nbformat_minor": 5
}
